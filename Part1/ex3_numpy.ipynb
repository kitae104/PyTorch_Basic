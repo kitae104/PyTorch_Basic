{
 "cells": [
  {
   "cell_type": "markdown",
   "id": "e701a219",
   "metadata": {},
   "source": [
    "### 넘파이"
   ]
  },
  {
   "cell_type": "code",
   "execution_count": 1,
   "id": "b193d41a",
   "metadata": {},
   "outputs": [],
   "source": [
    "import numpy as np"
   ]
  },
  {
   "cell_type": "code",
   "execution_count": null,
   "id": "4970c2fd",
   "metadata": {},
   "outputs": [
    {
     "name": "stdout",
     "output_type": "stream",
     "text": [
      "[1 3 5 7]\n",
      "<class 'numpy.ndarray'>\n",
      "(4,)\n",
      "int64\n"
     ]
    }
   ],
   "source": [
    "# 배열 \n",
    "arr = np.array([1, 3, 5, 7])\n",
    "print(arr) # 배열 출력\n",
    "print(type(arr)) # 배열의 타입 출력\n",
    "print(arr.shape) # 배열의 형태 출력\n",
    "print(arr.dtype) # 배열의 데이터 타입 출력"
   ]
  },
  {
   "cell_type": "code",
   "execution_count": 6,
   "id": "2ee39c76",
   "metadata": {},
   "outputs": [
    {
     "name": "stdout",
     "output_type": "stream",
     "text": [
      "[[1 2 3]\n",
      " [4 5 6]]\n",
      "<class 'numpy.ndarray'>\n",
      "(2, 3)\n",
      "int64\n"
     ]
    }
   ],
   "source": [
    "# 2차원 배열\n",
    "arr2d = np.array([[1, 2, 3], [4, 5, 6]])\n",
    "print(arr2d) # 2차원 배열 출력\n",
    "print(type(arr2d)) # 2차원 배열의 타입 출력\n",
    "print(arr2d.shape) # 2차원 배열의 형태 출력\n",
    "print(arr2d.dtype) # 2차원 배열의 데이터 타입 출력  "
   ]
  },
  {
   "cell_type": "markdown",
   "id": "62012773",
   "metadata": {},
   "source": [
    "배열 생성"
   ]
  },
  {
   "cell_type": "code",
   "execution_count": 7,
   "id": "98e01775",
   "metadata": {},
   "outputs": [
    {
     "name": "stdout",
     "output_type": "stream",
     "text": [
      "[[0. 0. 0.]\n",
      " [0. 0. 0.]]\n",
      "[[1. 1. 1.]\n",
      " [1. 1. 1.]]\n"
     ]
    }
   ],
   "source": [
    "# 배열 생성 \n",
    "arr_zeros = np.zeros((2, 3)) # 2x3 배열 생성\n",
    "print(arr_zeros) # 0으로 채워진 배열 출력\n",
    "arr_ones = np.ones((2, 3)) # 2x3 배열 생성\n",
    "print(arr_ones) # 1로 채워진 배열 출력"
   ]
  },
  {
   "cell_type": "code",
   "execution_count": 8,
   "id": "481eafa9",
   "metadata": {},
   "outputs": [
    {
     "name": "stdout",
     "output_type": "stream",
     "text": [
      "[[0.04003565 0.60533676 0.47665872]\n",
      " [0.88654142 0.54002742 0.80659924]]\n"
     ]
    }
   ],
   "source": [
    "# 랜덤 배열 생성\n",
    "arr_random = np.random.rand(2, 3) # 2x3 랜덤 배열 생성\n",
    "print(arr_random) # 랜덤 배열 출력"
   ]
  },
  {
   "cell_type": "code",
   "execution_count": 9,
   "id": "d8914500",
   "metadata": {},
   "outputs": [
    {
     "name": "stdout",
     "output_type": "stream",
     "text": [
      "[[5 6 5]\n",
      " [6 7 5]]\n"
     ]
    }
   ],
   "source": [
    "# \n",
    "arr = np.random.randint(5, 10, size=(2, 3)) # 5에서 10 사이의 랜덤 정수로 채워진 2x3 배열 생성\n",
    "print(arr) # 랜덤 정수 배열 출력"
   ]
  },
  {
   "cell_type": "code",
   "execution_count": 11,
   "id": "71b8e3ed",
   "metadata": {},
   "outputs": [
    {
     "name": "stdout",
     "output_type": "stream",
     "text": [
      "[1 3 5 7 9]\n",
      "[0.1 0.2 0.3 0.4 0.5 0.6 0.7 0.8 0.9]\n"
     ]
    }
   ],
   "source": [
    "arr1 = np.arange(1, 10, 2) # 1부터 10까지 2씩 증가하는 배열 생성\n",
    "print(arr1) # 배열 출력\n",
    "\n",
    "arr2 = np.arange(0.1, 1, 0.1) # 0.1부터 1까지 0.1씩 증가하는 배열 생성\n",
    "print(arr2) # 배열 출력"
   ]
  },
  {
   "cell_type": "markdown",
   "id": "aef38f70",
   "metadata": {},
   "source": [
    "배열 연산"
   ]
  },
  {
   "cell_type": "code",
   "execution_count": 13,
   "id": "fc4ccea5",
   "metadata": {},
   "outputs": [
    {
     "name": "stdout",
     "output_type": "stream",
     "text": [
      "[ 2  4  6  8 10]\n",
      "[ 2  4  6  8 10]\n",
      "[1, 2, 3, 4, 5, 1, 2, 3, 4, 5]\n"
     ]
    }
   ],
   "source": [
    "list_data = [1, 2, 3, 4, 5]\n",
    "\n",
    "# 넘파이 배열로 변환\n",
    "arr_data = np.array(list_data)\n",
    "arr_data2 = np.array([1,2,3,4,5]) # 리스트를 넘파이 배열로 변환\n",
    "\n",
    "print(arr_data * 2) # 배열 출력\n",
    "print(arr_data2 * 2) # 배열 출력\n",
    "print(list_data * 2) # 리스트 출력 (리스트는 요소별 곱셈이 불가능)"
   ]
  },
  {
   "cell_type": "code",
   "execution_count": 15,
   "id": "6ae69594",
   "metadata": {},
   "outputs": [
    {
     "name": "stdout",
     "output_type": "stream",
     "text": [
      "[1 2 3 4]\n",
      "[False False  True  True]\n",
      "[3 4]\n"
     ]
    }
   ],
   "source": [
    "data1 = np.array([1, 2, 3, 4])\n",
    "print(data1) # 배열 출력\n",
    "\n",
    "data2 = data1 > 2 # 조건에 맞는 요소를 True로 설정\n",
    "print(data2) # 조건에 맞는 요소 출력\n",
    "\n",
    "filtered_data = data1[data2] # 조건에 맞는 요소만 추출\n",
    "print(filtered_data) # 필터링된 데이터 출력"
   ]
  },
  {
   "cell_type": "code",
   "execution_count": null,
   "id": "79f163f7",
   "metadata": {},
   "outputs": [],
   "source": []
  }
 ],
 "metadata": {
  "kernelspec": {
   "display_name": "pytorch_env",
   "language": "python",
   "name": "python3"
  },
  "language_info": {
   "codemirror_mode": {
    "name": "ipython",
    "version": 3
   },
   "file_extension": ".py",
   "mimetype": "text/x-python",
   "name": "python",
   "nbconvert_exporter": "python",
   "pygments_lexer": "ipython3",
   "version": "3.10.12"
  }
 },
 "nbformat": 4,
 "nbformat_minor": 5
}
