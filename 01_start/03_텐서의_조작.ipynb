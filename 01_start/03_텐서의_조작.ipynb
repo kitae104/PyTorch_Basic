{
 "cells": [
  {
   "cell_type": "markdown",
   "metadata": {},
   "source": [
    "텐서의 조작(Manipulations)\n",
    "* 인덱싱(Indexing): NumPy처럼 인덱싱 형태로 사용가능"
   ]
  },
  {
   "cell_type": "code",
   "execution_count": 2,
   "metadata": {},
   "outputs": [],
   "source": [
    "import torch"
   ]
  },
  {
   "cell_type": "code",
   "execution_count": 6,
   "metadata": {},
   "outputs": [
    {
     "name": "stdout",
     "output_type": "stream",
     "text": [
      "tensor([[1., 2.],\n",
      "        [3., 4.]])\n",
      "tensor(1.)\n",
      "tensor(2.)\n",
      "tensor(3.)\n",
      "tensor(4.)\n",
      "tensor([1., 3.])\n",
      "tensor([2., 4.])\n",
      "tensor([1., 2.])\n",
      "tensor([3., 4.])\n"
     ]
    }
   ],
   "source": [
    "x = torch.Tensor([[1, 2], [3, 4]])\n",
    "print(x)\n",
    "\n",
    "print(x[0, 0])\n",
    "print(x[0, 1])\n",
    "print(x[1, 0])\n",
    "print(x[1, 1])\n",
    "\n",
    "print(x[:, 0])\n",
    "print(x[:, 1])\n",
    "\n",
    "print(x[0, :])\n",
    "print(x[1, :])"
   ]
  },
  {
   "cell_type": "markdown",
   "metadata": {},
   "source": [
    "`view`: 텐서의 크기(size)나 모양(shape)을 변경\n",
    "\n",
    "- 기본적으로 변경 전과 후에 텐서 안의 원소 개수가 유지되어야 함\n",
    "- -1로 설정되면 계산을 통해 해당 크기값을 유추"
   ]
  },
  {
   "cell_type": "code",
   "execution_count": 9,
   "metadata": {},
   "outputs": [
    {
     "name": "stdout",
     "output_type": "stream",
     "text": [
      "tensor([[ 0.1943,  0.6296, -0.7337, -0.3751, -0.0564],\n",
      "        [-0.9165,  0.3038, -0.3002, -1.3597, -1.2562],\n",
      "        [-0.8852,  1.8245,  1.3540, -0.7835,  0.4631],\n",
      "        [ 1.3937, -1.0983,  1.1972,  2.1487, -0.3287]])\n",
      "tensor([ 0.1943,  0.6296, -0.7337, -0.3751, -0.0564, -0.9165,  0.3038, -0.3002,\n",
      "        -1.3597, -1.2562, -0.8852,  1.8245,  1.3540, -0.7835,  0.4631,  1.3937,\n",
      "        -1.0983,  1.1972,  2.1487, -0.3287])\n",
      "tensor([[ 0.1943,  0.6296, -0.7337, -0.3751],\n",
      "        [-0.0564, -0.9165,  0.3038, -0.3002],\n",
      "        [-1.3597, -1.2562, -0.8852,  1.8245],\n",
      "        [ 1.3540, -0.7835,  0.4631,  1.3937],\n",
      "        [-1.0983,  1.1972,  2.1487, -0.3287]])\n"
     ]
    }
   ],
   "source": [
    "x = torch.randn(4, 5)\n",
    "print(x)\n",
    "y = x.view(20)        # 1차원 벡터로 변환\n",
    "print(y)\n",
    "z = x.view(5, -1)     # 5행으로 변환\n",
    "print(z)"
   ]
  },
  {
   "cell_type": "markdown",
   "metadata": {},
   "source": [
    "`item`: 텐서에 값이 단 하나라도 존재하면 숫자값을 얻을 수 있음"
   ]
  },
  {
   "cell_type": "code",
   "execution_count": 10,
   "metadata": {},
   "outputs": [
    {
     "name": "stdout",
     "output_type": "stream",
     "text": [
      "tensor([-0.6408])\n",
      "-0.6407829523086548\n",
      "torch.float32\n"
     ]
    }
   ],
   "source": [
    "x = torch.randn(1)\n",
    "print(x)\n",
    "print(x.item())\n",
    "print(x.dtype)"
   ]
  },
  {
   "cell_type": "markdown",
   "metadata": {},
   "source": [
    "스칼라값 하나만 존재해야 item() 사용 가능"
   ]
  },
  {
   "cell_type": "code",
   "execution_count": 13,
   "metadata": {},
   "outputs": [
    {
     "name": "stdout",
     "output_type": "stream",
     "text": [
      "tensor([0.6507, 0.0102])\n",
      "0.6506795287132263\n"
     ]
    }
   ],
   "source": [
    "x = torch.randn(2)\n",
    "print(x)\n",
    "print(x[0].item())"
   ]
  },
  {
   "cell_type": "markdown",
   "metadata": {},
   "source": [
    "`squeeze`: 차원을 축소(제거)"
   ]
  },
  {
   "cell_type": "code",
   "execution_count": 14,
   "metadata": {},
   "outputs": [
    {
     "name": "stdout",
     "output_type": "stream",
     "text": [
      "tensor([[[0.1139, 0.1809, 0.3196],\n",
      "         [0.7609, 0.3725, 0.6431],\n",
      "         [0.2002, 0.5584, 0.6522]]])\n",
      "torch.Size([1, 3, 3])\n"
     ]
    }
   ],
   "source": [
    "tensor = torch.rand(1, 3, 3)\n",
    "print(tensor)\n",
    "print(tensor.shape)"
   ]
  },
  {
   "cell_type": "code",
   "execution_count": 15,
   "metadata": {},
   "outputs": [
    {
     "name": "stdout",
     "output_type": "stream",
     "text": [
      "tensor([[0.1139, 0.1809, 0.3196],\n",
      "        [0.7609, 0.3725, 0.6431],\n",
      "        [0.2002, 0.5584, 0.6522]])\n",
      "torch.Size([3, 3])\n"
     ]
    }
   ],
   "source": [
    "t =  tensor.squeeze()\n",
    "print(t)\n",
    "print(t.shape)"
   ]
  },
  {
   "cell_type": "markdown",
   "metadata": {},
   "source": [
    "`unsqueeze`: 차원을 증가(생성)"
   ]
  },
  {
   "cell_type": "code",
   "execution_count": 17,
   "metadata": {},
   "outputs": [
    {
     "name": "stdout",
     "output_type": "stream",
     "text": [
      "tensor([[0.9325, 0.8777, 0.6783],\n",
      "        [0.6428, 0.5617, 0.9886],\n",
      "        [0.2350, 0.2097, 0.6549]])\n",
      "torch.Size([3, 3])\n"
     ]
    }
   ],
   "source": [
    "t = torch.rand(3,3)\n",
    "print(t)\n",
    "print(t.shape)"
   ]
  },
  {
   "cell_type": "code",
   "execution_count": 19,
   "metadata": {},
   "outputs": [
    {
     "name": "stdout",
     "output_type": "stream",
     "text": [
      "tensor([[[0.9325, 0.8777, 0.6783],\n",
      "         [0.6428, 0.5617, 0.9886],\n",
      "         [0.2350, 0.2097, 0.6549]]])\n",
      "torch.Size([1, 3, 3])\n"
     ]
    }
   ],
   "source": [
    "tensor = t.unsqueeze(dim=0)\n",
    "print(tensor)\n",
    "print(tensor.shape)"
   ]
  },
  {
   "cell_type": "code",
   "execution_count": 20,
   "metadata": {},
   "outputs": [
    {
     "name": "stdout",
     "output_type": "stream",
     "text": [
      "tensor([[[0.9325],\n",
      "         [0.8777],\n",
      "         [0.6783]],\n",
      "\n",
      "        [[0.6428],\n",
      "         [0.5617],\n",
      "         [0.9886]],\n",
      "\n",
      "        [[0.2350],\n",
      "         [0.2097],\n",
      "         [0.6549]]])\n",
      "torch.Size([3, 3, 1])\n"
     ]
    }
   ],
   "source": [
    "tensor = t.unsqueeze(dim=2)\n",
    "print(tensor)\n",
    "print(tensor.shape)"
   ]
  },
  {
   "cell_type": "markdown",
   "metadata": {},
   "source": [
    "`stack`: 텐서간 결합"
   ]
  },
  {
   "cell_type": "code",
   "execution_count": 22,
   "metadata": {},
   "outputs": [
    {
     "name": "stdout",
     "output_type": "stream",
     "text": [
      "tensor([1., 4.])\n",
      "tensor([[1., 4.],\n",
      "        [2., 5.],\n",
      "        [3., 6.]])\n"
     ]
    }
   ],
   "source": [
    "x = torch.FloatTensor([1, 4])\n",
    "print(x)\n",
    "y = torch.FloatTensor([2, 5])\n",
    "z = torch.FloatTensor([3, 6])\n",
    "\n",
    "print(torch.stack([x, y, z]))"
   ]
  },
  {
   "cell_type": "markdown",
   "metadata": {},
   "source": [
    "`cat`: 텐서를 결합하는 메소드(concatenate)\n",
    "\n",
    "- 넘파이의 `stack`과 유사하지만, 쌓을 `dim`이 존재해야함\n",
    "- 해당 차원을 늘려준 후 결합"
   ]
  },
  {
   "cell_type": "code",
   "execution_count": 25,
   "metadata": {},
   "outputs": [
    {
     "name": "stdout",
     "output_type": "stream",
     "text": [
      "tensor([[[-1.1651,  2.1364, -1.2825],\n",
      "         [-0.0160,  0.3221,  0.4656],\n",
      "         [-0.8091,  0.1728, -1.1327]]])\n",
      "tensor([[[ 0.8531, -0.0564,  0.0351],\n",
      "         [-1.4576,  1.4466,  0.6299],\n",
      "         [ 1.4295,  0.4672,  0.1911]]])\n",
      "tensor([[[-1.1651,  2.1364, -1.2825],\n",
      "         [-0.0160,  0.3221,  0.4656],\n",
      "         [-0.8091,  0.1728, -1.1327]],\n",
      "\n",
      "        [[ 0.8531, -0.0564,  0.0351],\n",
      "         [-1.4576,  1.4466,  0.6299],\n",
      "         [ 1.4295,  0.4672,  0.1911]]])\n",
      "torch.Size([2, 3, 3])\n",
      "torch.Size([2, 3, 3])\n"
     ]
    }
   ],
   "source": [
    "a = torch.randn(1, 3, 3)\n",
    "print(a)\n",
    "b = torch.randn(1, 3, 3)\n",
    "print(b)\n",
    "c = torch.cat([a, b], dim=0)\n",
    "print(c)\n",
    "print(c.shape)\n",
    "print(c.size())"
   ]
  },
  {
   "cell_type": "code",
   "execution_count": 26,
   "metadata": {},
   "outputs": [
    {
     "name": "stdout",
     "output_type": "stream",
     "text": [
      "tensor([[[-1.1651,  2.1364, -1.2825],\n",
      "         [-0.0160,  0.3221,  0.4656],\n",
      "         [-0.8091,  0.1728, -1.1327],\n",
      "         [ 0.8531, -0.0564,  0.0351],\n",
      "         [-1.4576,  1.4466,  0.6299],\n",
      "         [ 1.4295,  0.4672,  0.1911]]])\n",
      "torch.Size([1, 6, 3])\n",
      "torch.Size([1, 6, 3])\n"
     ]
    }
   ],
   "source": [
    "c = torch.cat([a, b], dim=1)\n",
    "print(c)\n",
    "print(c.shape)\n",
    "print(c.size())"
   ]
  },
  {
   "cell_type": "code",
   "execution_count": 27,
   "metadata": {},
   "outputs": [
    {
     "name": "stdout",
     "output_type": "stream",
     "text": [
      "tensor([[[-1.1651,  2.1364, -1.2825,  0.8531, -0.0564,  0.0351],\n",
      "         [-0.0160,  0.3221,  0.4656, -1.4576,  1.4466,  0.6299],\n",
      "         [-0.8091,  0.1728, -1.1327,  1.4295,  0.4672,  0.1911]]])\n",
      "torch.Size([1, 3, 6])\n",
      "torch.Size([1, 3, 6])\n"
     ]
    }
   ],
   "source": [
    "c = torch.cat([a, b], dim=2)\n",
    "print(c)\n",
    "print(c.shape)\n",
    "print(c.size())"
   ]
  },
  {
   "cell_type": "markdown",
   "metadata": {},
   "source": [
    "`chunk`: 텐서를 여러 개로 나눌 때 사용 (몇 개로 나눌 것인가?)"
   ]
  },
  {
   "cell_type": "code",
   "execution_count": 30,
   "metadata": {},
   "outputs": [
    {
     "name": "stdout",
     "output_type": "stream",
     "text": [
      "tensor([[0.9602, 0.8677, 0.3626, 0.0917, 0.8118, 0.0188],\n",
      "        [0.9790, 0.7698, 0.0568, 0.9963, 0.1708, 0.0079],\n",
      "        [0.1768, 0.5170, 0.1987, 0.3304, 0.2702, 0.1451]])\n",
      "tensor([[0.9602, 0.8677],\n",
      "        [0.9790, 0.7698],\n",
      "        [0.1768, 0.5170]])\n",
      "tensor([[0.3626, 0.0917],\n",
      "        [0.0568, 0.9963],\n",
      "        [0.1987, 0.3304]])\n",
      "tensor([[0.8118, 0.0188],\n",
      "        [0.1708, 0.0079],\n",
      "        [0.2702, 0.1451]])\n"
     ]
    }
   ],
   "source": [
    "tensor = torch.rand(3 ,6)\n",
    "print(tensor)\n",
    "\n",
    "t1, t2, t3 = torch.chunk(tensor, 3, dim=1)    # 3개로 나누기\n",
    "print(t1)\n",
    "print(t2)\n",
    "print(t3)"
   ]
  },
  {
   "cell_type": "markdown",
   "metadata": {},
   "source": [
    "`split`: `chunk`와 동일한 기능이지만 조금 다름 (텐서의 크기는 몇인가?)"
   ]
  },
  {
   "cell_type": "code",
   "execution_count": 31,
   "metadata": {},
   "outputs": [
    {
     "name": "stdout",
     "output_type": "stream",
     "text": [
      "tensor([[0.4520, 0.4966, 0.1233, 0.6367, 0.1745, 0.1395],\n",
      "        [0.5745, 0.5736, 0.8583, 0.9193, 0.1863, 0.7425],\n",
      "        [0.8701, 0.7714, 0.4776, 0.9069, 0.8066, 0.2249]])\n",
      "tensor([[0.4520, 0.4966, 0.1233],\n",
      "        [0.5745, 0.5736, 0.8583],\n",
      "        [0.8701, 0.7714, 0.4776]])\n",
      "tensor([[0.6367, 0.1745, 0.1395],\n",
      "        [0.9193, 0.1863, 0.7425],\n",
      "        [0.9069, 0.8066, 0.2249]])\n"
     ]
    }
   ],
   "source": [
    "tensor = torch.rand(3, 6)\n",
    "t1, t2 = torch.split(tensor, 3, dim=1)    # 텐서의 크기별로 나누기 \n",
    "print(tensor)\n",
    "print(t1)\n",
    "print(t2)"
   ]
  },
  {
   "cell_type": "markdown",
   "metadata": {},
   "source": [
    "torch ↔ numpy\n",
    "- Torch Tensor(텐서)를 NumPy array(배열)로 변환 가능\n",
    "  - `numpy()`\n",
    "  - `from_numpy()`\n",
    "- Tensor가 CPU상에 있다면 NumPy 배열은 메모리 공간을 공유하므로 하나가 변하면, 다른 하나도 변함"
   ]
  },
  {
   "cell_type": "code",
   "execution_count": 32,
   "metadata": {},
   "outputs": [
    {
     "name": "stdout",
     "output_type": "stream",
     "text": [
      "tensor([1., 1., 1., 1., 1., 1., 1.])\n"
     ]
    }
   ],
   "source": [
    "a = torch.ones(7)\n",
    "print(a)"
   ]
  },
  {
   "cell_type": "code",
   "execution_count": 33,
   "metadata": {},
   "outputs": [
    {
     "name": "stdout",
     "output_type": "stream",
     "text": [
      "[1. 1. 1. 1. 1. 1. 1.]\n"
     ]
    }
   ],
   "source": [
    "b = a.numpy()\n",
    "print(b)"
   ]
  },
  {
   "cell_type": "code",
   "execution_count": 35,
   "metadata": {},
   "outputs": [
    {
     "name": "stdout",
     "output_type": "stream",
     "text": [
      "tensor([2., 2., 2., 2., 2., 2., 2.])\n",
      "[2. 2. 2. 2. 2. 2. 2.]\n"
     ]
    }
   ],
   "source": [
    "a.add_(1)  # a = a + 1 그냥 add하면 새로운 텐서가 생성되어서 b에 반영이 안됨\n",
    "print(a)\n",
    "print(b)"
   ]
  },
  {
   "cell_type": "code",
   "execution_count": 36,
   "metadata": {},
   "outputs": [
    {
     "name": "stdout",
     "output_type": "stream",
     "text": [
      "[2. 2. 2. 2. 2. 2. 2.]\n",
      "tensor([2., 2., 2., 2., 2., 2., 2.], dtype=torch.float64)\n"
     ]
    }
   ],
   "source": [
    "import numpy as np\n",
    "\n",
    "a = np.ones(7)\n",
    "b = torch.from_numpy(a)\n",
    "np.add(a, 1, out=a)\n",
    "print(a)\n",
    "print(b)"
   ]
  }
 ],
 "metadata": {
  "kernelspec": {
   "display_name": "Python 3",
   "language": "python",
   "name": "python3"
  },
  "language_info": {
   "codemirror_mode": {
    "name": "ipython",
    "version": 3
   },
   "file_extension": ".py",
   "mimetype": "text/x-python",
   "name": "python",
   "nbconvert_exporter": "python",
   "pygments_lexer": "ipython3",
   "version": "3.11.0"
  }
 },
 "nbformat": 4,
 "nbformat_minor": 2
}
