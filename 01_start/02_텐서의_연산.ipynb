{
 "cells": [
  {
   "cell_type": "markdown",
   "metadata": {},
   "source": [
    "### 텐서의 연산(Operations)\n",
    "\n",
    "* 텐서에 대한 수학 연산, 삼각함수, 비트 연산, 비교 연산, 집계 등 제공"
   ]
  },
  {
   "cell_type": "code",
   "execution_count": 3,
   "metadata": {},
   "outputs": [
    {
     "name": "stdout",
     "output_type": "stream",
     "text": [
      "tensor([[-0.7195,  0.1912]])\n",
      "tensor([[0.7195, 0.1912]])\n",
      "tensor([[-1.,  0.]])\n",
      "tensor([[-0.5000,  0.1912]])\n"
     ]
    }
   ],
   "source": [
    "import torch\n",
    "import math\n",
    "\n",
    "a = torch.rand(1, 2) * 2 - 1                # 랜덤값 생성\n",
    "print(a)\n",
    "print(torch.abs(a))                         # 절대값\n",
    "print(torch.floor(a))                       # 내림\n",
    "print(torch.clamp(a, min=-0.5, max=0.5))    # 최소값과 최대값 사이의 값으로 제한  "
   ]
  },
  {
   "cell_type": "code",
   "execution_count": 4,
   "metadata": {},
   "outputs": [
    {
     "name": "stdout",
     "output_type": "stream",
     "text": [
      "tensor([[-0.7195,  0.1912]])\n",
      "tensor(-0.7195)\n",
      "tensor(0.1912)\n",
      "tensor(-0.2642)\n",
      "tensor(-0.5283)\n",
      "tensor(-0.1375)\n",
      "tensor(0.6439)\n",
      "tensor(0.4147)\n",
      "tensor(-0.7195)\n",
      "torch.return_types.mode(\n",
      "values=tensor([-0.7195]),\n",
      "indices=tensor([0]))\n",
      "tensor(0.7445)\n",
      "tensor(0.7445)\n",
      "tensor([1, 2, 3, 4, 5, 6, 7, 8])\n"
     ]
    }
   ],
   "source": [
    "print(a)\n",
    "print(torch.min(a))                         # 최소값\n",
    "print(torch.max(a))                         # 최대값\n",
    "print(torch.mean(a))                        # 평균값\n",
    "print(torch.sum(a))                         # 합계\n",
    "print(torch.prod(a))                        # 곱\n",
    "print(torch.std(a))                         # 표준편차\n",
    "print(torch.var(a))                         # 분산\n",
    "print(torch.median(a))                      # 중앙값\n",
    "print(torch.mode(a))                        # 최빈값\n",
    "print(torch.norm(a))                        # 노름\n",
    "print(torch.dist(a, torch.zeros(1, 2)))     # 두 텐서 사이의 거리\n",
    "print(torch.unique(torch.tensor([1, 2, 3, 1, 2, 3, 4, 5, 6, 7, 8]))) # 중복 제거"
   ]
  },
  {
   "cell_type": "markdown",
   "metadata": {},
   "source": [
    "max와 min은 dim 인자를 줄 경우 argmax와 argmin도 함께 리턴\n",
    "* argmax: 최대값을 가진 인덱스\n",
    "* argmin: 최소값을 가진 인덱스"
   ]
  },
  {
   "cell_type": "code",
   "execution_count": 7,
   "metadata": {},
   "outputs": [
    {
     "name": "stdout",
     "output_type": "stream",
     "text": [
      "tensor([[0.5459, 0.9910],\n",
      "        [0.5144, 0.4479]])\n",
      "torch.return_types.max(\n",
      "values=tensor([0.5459, 0.9910]),\n",
      "indices=tensor([0, 0]))\n",
      "torch.return_types.max(\n",
      "values=tensor([0.9910, 0.5144]),\n",
      "indices=tensor([1, 0]))\n"
     ]
    }
   ],
   "source": [
    "x = torch.rand(2, 2)\n",
    "print(x)\n",
    "print(x.max(dim=0))                         # 열 단위 최대값\n",
    "print(x.max(dim=1))                         # 행 단위 최대값"
   ]
  },
  {
   "cell_type": "code",
   "execution_count": 9,
   "metadata": {},
   "outputs": [
    {
     "name": "stdout",
     "output_type": "stream",
     "text": [
      "tensor([[0.5459, 0.9910],\n",
      "        [0.5144, 0.4479]])\n",
      "torch.return_types.min(\n",
      "values=tensor([0.5144, 0.4479]),\n",
      "indices=tensor([1, 1]))\n",
      "torch.return_types.min(\n",
      "values=tensor([0.5459, 0.4479]),\n",
      "indices=tensor([0, 1]))\n"
     ]
    }
   ],
   "source": [
    "print(x)\n",
    "print(x.min(dim=0))                         # 열 단위 최소값\n",
    "print(x.min(dim=1))                         # 행 단위 최소값"
   ]
  },
  {
   "cell_type": "markdown",
   "metadata": {},
   "source": [
    "임의의 랜덤 텐서"
   ]
  },
  {
   "cell_type": "code",
   "execution_count": 10,
   "metadata": {},
   "outputs": [
    {
     "name": "stdout",
     "output_type": "stream",
     "text": [
      "tensor([[0.7219, 0.7033],\n",
      "        [0.9453, 0.0754]])\n",
      "tensor([[0.4403, 0.7461],\n",
      "        [0.9989, 0.3223]])\n"
     ]
    }
   ],
   "source": [
    "x = torch.rand(2, 2)\n",
    "y = torch.rand(2, 2)\n",
    "print(x)\n",
    "print(y)"
   ]
  },
  {
   "cell_type": "markdown",
   "metadata": {},
   "source": [
    "torch.add: 덧셈"
   ]
  },
  {
   "cell_type": "code",
   "execution_count": 12,
   "metadata": {},
   "outputs": [
    {
     "name": "stdout",
     "output_type": "stream",
     "text": [
      "tensor([[1.1622, 1.4495],\n",
      "        [1.9442, 0.3978]])\n",
      "tensor([[1.1622, 1.4495],\n",
      "        [1.9442, 0.3978]])\n"
     ]
    }
   ],
   "source": [
    "print(x + y)\n",
    "print(torch.add(x, y))                      # 덧셈"
   ]
  },
  {
   "cell_type": "markdown",
   "metadata": {},
   "source": [
    "결과 텐서를 인자로 제공"
   ]
  },
  {
   "cell_type": "code",
   "execution_count": 14,
   "metadata": {},
   "outputs": [
    {
     "name": "stdout",
     "output_type": "stream",
     "text": [
      "tensor([[1.1622, 1.4495],\n",
      "        [1.9442, 0.3978]])\n"
     ]
    }
   ],
   "source": [
    "result = torch.empty(2, 2)\n",
    "torch.add(x, y, out=result)\n",
    "print(result)"
   ]
  },
  {
   "cell_type": "markdown",
   "metadata": {},
   "source": [
    "in-place 방식\n",
    "* in-place방식으로 텐서의 값을 변경하는 연산 뒤에는 _''가 붙음\n",
    "* x.copy_(y), x.t_()"
   ]
  },
  {
   "cell_type": "code",
   "execution_count": 20,
   "metadata": {},
   "outputs": [
    {
     "name": "stdout",
     "output_type": "stream",
     "text": [
      "tensor([[0.7219, 0.7033],\n",
      "        [0.9453, 0.0754]])\n",
      "tensor([[1.8841, 2.1528],\n",
      "        [2.8895, 0.4732]])\n",
      "tensor([[2.6059, 2.8561],\n",
      "        [3.8347, 0.5486]])\n"
     ]
    }
   ],
   "source": [
    "print(x)\n",
    "print(y)\n",
    "y.add_(x)                                   # y와 x를 덧셈 후 다시 y에 대입\n",
    "print(y)"
   ]
  },
  {
   "cell_type": "markdown",
   "metadata": {},
   "source": [
    "torch.sub: 뺄셈"
   ]
  },
  {
   "cell_type": "code",
   "execution_count": 16,
   "metadata": {},
   "outputs": [
    {
     "name": "stdout",
     "output_type": "stream",
     "text": [
      "tensor([[0.7219, 0.7033],\n",
      "        [0.9453, 0.0754]])\n",
      "tensor([[1.1622, 1.4495],\n",
      "        [1.9442, 0.3978]])\n",
      "tensor([[-0.4403, -0.7461],\n",
      "        [-0.9989, -0.3223]])\n",
      "tensor([[-0.4403, -0.7461],\n",
      "        [-0.9989, -0.3223]])\n",
      "tensor([[-0.4403, -0.7461],\n",
      "        [-0.9989, -0.3223]])\n"
     ]
    }
   ],
   "source": [
    "print(x)\n",
    "print(y)\n",
    "print(x - y)\n",
    "print(torch.sub(x, y))                      # 뺄셈\n",
    "print(x.sub(y))                            # x에서 y를 뺀 결과를 반환"
   ]
  },
  {
   "cell_type": "markdown",
   "metadata": {},
   "source": [
    "torch.mul: 곱셉\n",
    "torch.div: 나눗셈"
   ]
  },
  {
   "cell_type": "code",
   "execution_count": 21,
   "metadata": {},
   "outputs": [
    {
     "name": "stdout",
     "output_type": "stream",
     "text": [
      "tensor([[0.7219, 0.7033],\n",
      "        [0.9453, 0.0754]])\n",
      "tensor([[2.6059, 2.8561],\n",
      "        [3.8347, 0.5486]])\n",
      "tensor([[1.8812, 2.0088],\n",
      "        [3.6249, 0.0414]])\n",
      "tensor([[1.8812, 2.0088],\n",
      "        [3.6249, 0.0414]])\n",
      "tensor([[1.8812, 2.0088],\n",
      "        [3.6249, 0.0414]])\n",
      "tensor([[0.2770, 0.2463],\n",
      "        [0.2465, 0.1375]])\n",
      "tensor([[0.2770, 0.2463],\n",
      "        [0.2465, 0.1375]])\n"
     ]
    }
   ],
   "source": [
    "print(x)\n",
    "print(y)\n",
    "print(x * y)\n",
    "print(torch.mul(x, y))  # 곱셈\n",
    "print(x.mul(y))         # x와 y를 곱한 결과를 반환 \n",
    "\n",
    "print(x / y)\n",
    "print(torch.div(x, y)) # 나눗셈\n",
    "print(x.div(y))        # x를 y로 나눈 결과를 반환"
   ]
  },
  {
   "cell_type": "markdown",
   "metadata": {},
   "source": [
    "torch.mm: 내적(dot product)"
   ]
  },
  {
   "cell_type": "code",
   "execution_count": 22,
   "metadata": {},
   "outputs": [
    {
     "name": "stdout",
     "output_type": "stream",
     "text": [
      "tensor([[0.7219, 0.7033],\n",
      "        [0.9453, 0.0754]])\n",
      "tensor([[2.6059, 2.8561],\n",
      "        [3.8347, 0.5486]])\n",
      "tensor([[4.5783, 2.4476],\n",
      "        [2.7526, 2.7412]])\n",
      "tensor([[4.5783, 2.4476],\n",
      "        [2.7526, 2.7412]])\n",
      "torch.return_types.svd(\n",
      "U=tensor([[-0.8042, -0.5943],\n",
      "        [-0.5943,  0.8042]]),\n",
      "S=tensor([6.4205, 0.9053]),\n",
      "V=tensor([[-0.8283, -0.5603],\n",
      "        [-0.5603,  0.8283]]))\n"
     ]
    }
   ],
   "source": [
    "print(x)\n",
    "print(y)\n",
    "print(torch.matmul(x, y))    # 행렬 곱셈\n",
    "z = torch.mm(x, y)           # 행렬 곱셈\n",
    "print(z)\n",
    "print(torch.svd(z))          # 특이값 분해\n"
   ]
  }
 ],
 "metadata": {
  "kernelspec": {
   "display_name": "Python 3",
   "language": "python",
   "name": "python3"
  },
  "language_info": {
   "codemirror_mode": {
    "name": "ipython",
    "version": 3
   },
   "file_extension": ".py",
   "mimetype": "text/x-python",
   "name": "python",
   "nbconvert_exporter": "python",
   "pygments_lexer": "ipython3",
   "version": "3.11.6"
  }
 },
 "nbformat": 4,
 "nbformat_minor": 2
}
