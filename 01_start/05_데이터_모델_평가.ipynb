{
 "cells": [
  {
   "cell_type": "markdown",
   "metadata": {},
   "source": [
    "## 데이터 준비\n",
    "\n",
    "파이토치에서는 데이터 준비를 위해 `torch.utils.data`의 `Dataset`과 `DataLoader` 사용 가능\n",
    "\n",
    "- `Dataset`에는 다양한 데이터셋이 존재 (MNIST, FashionMNIST, CIFAR10, ...)\n",
    "  - Vision Dataset: https://pytorch.org/vision/stable/datasets.html\n",
    "  - Text Dataset: https://pytorch.org/text/stable/datasets.html\n",
    "  - Audio Dataset: https://pytorch.org/audio/stable/datasets.html\n",
    "- `DataLoader`와 `Dataset`을 통해 `batch_size`, `train` 여부, `transform` 등을 인자로 넣어 데이터를 어떻게 load할 것인지 정해줄 수 있음"
   ]
  },
  {
   "cell_type": "code",
   "execution_count": 1,
   "metadata": {},
   "outputs": [],
   "source": [
    "import torch\n",
    "from torch.utils.data import Dataset, DataLoader"
   ]
  },
  {
   "cell_type": "markdown",
   "metadata": {},
   "source": [
    "토치비전(`torchvision`)은 파이토치에서 제공하는 데이터셋들이 모여있는 패키지\n",
    "\n",
    "- `transforms`: 전처리할 때 사용하는 메소드 (https://pytorch.org/docs/stable/torchvision/transforms.html)\n",
    "- `transforms`에서 제공하는 클래스 이외는 일반적으로 클래스를 따로 만들어 전처리 단계를 진행"
   ]
  },
  {
   "cell_type": "code",
   "execution_count": 2,
   "metadata": {},
   "outputs": [],
   "source": [
    "import torchvision.transforms as transforms\n",
    "from torchvision import datasets"
   ]
  },
  {
   "cell_type": "markdown",
   "metadata": {},
   "source": [
    "`DataLoader`의 인자로 들어갈 `transform`을 미리 정의할 수 있고, `Compose`를 통해 리스트 안에 순서대로 전처리 진행\n",
    "\n",
    "`ToTensor`()를 하는 이유는 `torchvision`이 PIL Image 형태로만 입력을 받기 때문에 데이터 처리를 위해서 Tensor형으로 변환 필요"
   ]
  },
  {
   "cell_type": "code",
   "execution_count": 3,
   "metadata": {},
   "outputs": [],
   "source": [
    "mnist_transform = transforms.Compose([transforms.ToTensor(), transforms.Normalize(mean=(0.5, ), std=(1.0, ))]) # 각 채널별로 평균 0.5, 표준편차 1.0으로 정규화"
   ]
  },
  {
   "cell_type": "code",
   "execution_count": 4,
   "metadata": {},
   "outputs": [],
   "source": [
    "train_dataset = datasets.MNIST(root='./data', train=True, download=True, transform=mnist_transform)\n",
    "test_dataset = datasets.MNIST(root='./data', train=False, download=True, transform=mnist_transform)"
   ]
  },
  {
   "cell_type": "markdown",
   "metadata": {},
   "source": [
    "`DataLoader`는 데이터 전체를 보관했다가 실제 모델 학습을 할 때 `batch_size` 크기만큼 데이터를 가져옴"
   ]
  },
  {
   "cell_type": "code",
   "execution_count": 5,
   "metadata": {},
   "outputs": [],
   "source": [
    "train_loader = DataLoader(dataset=train_dataset, batch_size=8, shuffle=True, num_workers=2)\n",
    "test_loader = DataLoader(dataset=test_dataset, batch_size=8, shuffle=False, num_workers=2)"
   ]
  },
  {
   "cell_type": "code",
   "execution_count": 6,
   "metadata": {},
   "outputs": [
    {
     "data": {
      "text/plain": [
       "(torch.Size([8, 1, 28, 28]), torch.Size([8]))"
      ]
     },
     "execution_count": 6,
     "metadata": {},
     "output_type": "execute_result"
    }
   ],
   "source": [
    "data_iter = iter(train_loader)        # 반복자로 변환\n",
    "images, labels = next(data_iter)      # 반복자로부터 데이터를 가져옴\n",
    "images.shape, labels.shape            # 형태 확인(배치 크기, 채널 수, 높이, 너비), (배치 크기)  -> 8개의 이미지, 8개의 레이블"
   ]
  },
  {
   "cell_type": "code",
   "execution_count": 7,
   "metadata": {},
   "outputs": [
    {
     "data": {
      "text/plain": [
       "torch.Size([28, 28])"
      ]
     },
     "execution_count": 7,
     "metadata": {},
     "output_type": "execute_result"
    }
   ],
   "source": [
    "torch_image = torch.squeeze(images[0]) # squeeze() 함수를 사용하여 채널 차원을 제거\n",
    "torch_image.shape"
   ]
  },
  {
   "cell_type": "code",
   "execution_count": 8,
   "metadata": {},
   "outputs": [
    {
     "data": {
      "image/png": "[encoded data removed]",
      "text/plain": [
       "<Figure size 1200x600 with 8 Axes>"
      ]
     },
     "metadata": {},
     "output_type": "display_data"
    }
   ],
   "source": [
    "import matplotlib.pyplot as plt \n",
    "\n",
    "figure = plt.figure(figsize=(12, 6))\n",
    "cols, rows = 4, 2\n",
    "for i in range(1, cols * rows + 1):\n",
    "  sample_idx = torch.randint(len(train_dataset), size=(1, )).item()  # 0부터 len(train_dataset) - 1까지의 정수 중 하나를 랜덤하게 선택\n",
    "  img, label = train_dataset[sample_idx]  # 랜덤하게 선택한 인덱스의 이미지와 레이블을 가져옴\n",
    "  figure.add_subplot(rows, cols, i)       # 그림을 그릴 위치를 지정\n",
    "  plt.title(label)                        # 레이블을 제목으로 설정\n",
    "  plt.axis(\"off\")                         # 축을 제거하여 이미지만 표시\n",
    "  plt.imshow(img.squeeze(), cmap=\"gray\")  # 이미지를 그림\n",
    "plt.show()"
   ]
  },
  {
   "cell_type": "markdown",
   "metadata": {},
   "source": [
    "## 신경망 구성\n",
    "\n",
    "- `레이어(layer)`: 신경망의 핵심 데이터 구조로 하나 이상의 텐서를 입력받아 하나 이상의 텐서를 출력\n",
    "- `모듈(module)`: 한 개 이상의 계층이 모여서 구성\n",
    "- `모델(model)`: 한 개 이상의 모듈이 모여서 구성"
   ]
  },
  {
   "cell_type": "code",
   "execution_count": 9,
   "metadata": {},
   "outputs": [],
   "source": [
    "import torch"
   ]
  },
  {
   "cell_type": "markdown",
   "metadata": {},
   "source": [
    "### `torch.nn` 패키지\n",
    "\n",
    "주로 가중치(weights), 편향(bias)값들이 내부에서 자동으로 생성되는 레이어들을 사용할 때 사용 (`weight`값들을 직접 선언 안함)\n",
    "\n",
    "https://pytorch.org/docs/stable/nn.html"
   ]
  },
  {
   "cell_type": "code",
   "execution_count": 10,
   "metadata": {},
   "outputs": [],
   "source": [
    "import torch.nn as nn"
   ]
  },
  {
   "cell_type": "markdown",
   "metadata": {},
   "source": [
    "nn.Linear 계층 예제"
   ]
  },
  {
   "cell_type": "code",
   "execution_count": 11,
   "metadata": {},
   "outputs": [
    {
     "name": "stdout",
     "output_type": "stream",
     "text": [
      "Linear(in_features=20, out_features=30, bias=True)\n",
      "tensor([[-0.2112, -0.6338,  1.0558,  ..., -0.0683,  0.1125,  0.2178],\n",
      "        [ 0.8695, -0.7271, -0.7343,  ...,  0.4653,  0.0194,  0.2378],\n",
      "        [ 0.4165, -0.6926, -0.3407,  ..., -0.1680,  0.4085, -0.2623],\n",
      "        ...,\n",
      "        [-0.7425, -0.6095, -0.2500,  ..., -0.9821,  0.7292, -0.6588],\n",
      "        [ 0.8066,  0.6181,  0.8483,  ..., -0.8479,  0.3107, -0.4512],\n",
      "        [ 0.6055,  0.1813, -0.1329,  ..., -0.0714,  0.2822, -0.0504]],\n",
      "       grad_fn=<AddmmBackward0>)\n",
      "torch.Size([128, 30])\n"
     ]
    }
   ],
   "source": [
    "input = torch.randn(128, 20)   # 128 -> 20  입력\n",
    "\n",
    "m = nn.Linear(20, 30)          # 20 -> 30\n",
    "print(m)\n",
    "\n",
    "output = m(input)              # 128 -> 30  출력 \n",
    "print(output)\n",
    "print(output.size())"
   ]
  },
  {
   "cell_type": "markdown",
   "metadata": {},
   "source": [
    "`nn.Conv2d` 계층 예시"
   ]
  },
  {
   "cell_type": "code",
   "execution_count": 12,
   "metadata": {},
   "outputs": [
    {
     "name": "stdout",
     "output_type": "stream",
     "text": [
      "torch.Size([20, 16, 50, 100])\n"
     ]
    }
   ],
   "source": [
    "input = torch.randn(20, 16, 50, 100)\n",
    "print(input.size())"
   ]
  },
  {
   "cell_type": "code",
   "execution_count": 13,
   "metadata": {},
   "outputs": [
    {
     "name": "stdout",
     "output_type": "stream",
     "text": [
      "Conv2d(16, 33, kernel_size=(3, 5), stride=(2, 1), padding=(4, 2), dilation=(3, 1))\n"
     ]
    }
   ],
   "source": [
    "m = nn.Conv2d(16, 33, 3, stride=2)      # 16 -> 33\n",
    "m = nn.Conv2d(16, 33, (3, 5), stride=(2, 1), padding=(4, 2))  \n",
    "m = nn.Conv2d(16, 33, (3, 5), stride=(2, 1), padding=(4, 2), dilation=(3, 1))\n",
    "print(m)  "
   ]
  },
  {
   "cell_type": "code",
   "execution_count": 14,
   "metadata": {},
   "outputs": [
    {
     "name": "stdout",
     "output_type": "stream",
     "text": [
      "torch.Size([20, 33, 26, 100])\n"
     ]
    }
   ],
   "source": [
    "output = m(input)\n",
    "print(output.size())"
   ]
  },
  {
   "cell_type": "markdown",
   "metadata": {},
   "source": [
    "### 컨볼루션 레이어(Convolution Layers)\n",
    "\n",
    "`nn.Conv2d` 예제\n",
    "\n",
    "- `in_channels`: channel의 갯수\n",
    "- `out_channels`: 출력 채널의 갯수\n",
    "- `kernel_size`: 커널(필터) 사이즈"
   ]
  },
  {
   "cell_type": "code",
   "execution_count": 15,
   "metadata": {},
   "outputs": [
    {
     "data": {
      "text/plain": [
       "Conv2d(1, 20, kernel_size=(5, 5), stride=(1, 1))"
      ]
     },
     "execution_count": 15,
     "metadata": {},
     "output_type": "execute_result"
    }
   ],
   "source": [
    "nn.Conv2d(1, 20, kernel_size=(5, 5), stride=(1, 1))"
   ]
  },
  {
   "cell_type": "code",
   "execution_count": 16,
   "metadata": {},
   "outputs": [
    {
     "data": {
      "text/plain": [
       "Conv2d(1, 20, kernel_size=(5, 5), stride=(1, 1))"
      ]
     },
     "execution_count": 16,
     "metadata": {},
     "output_type": "execute_result"
    }
   ],
   "source": [
    "layer = nn.Conv2d(1, 20, 5, 1).to(torch.device('cpu'))\n",
    "layer"
   ]
  },
  {
   "cell_type": "markdown",
   "metadata": {},
   "source": [
    "weight 확인"
   ]
  },
  {
   "cell_type": "code",
   "execution_count": 17,
   "metadata": {},
   "outputs": [
    {
     "data": {
      "text/plain": [
       "torch.Size([20, 1, 5, 5])"
      ]
     },
     "execution_count": 17,
     "metadata": {},
     "output_type": "execute_result"
    }
   ],
   "source": [
    "weight = layer.weight\n",
    "weight.size()"
   ]
  },
  {
   "cell_type": "markdown",
   "metadata": {},
   "source": [
    "`weight`는 `detach()`를 통해 꺼내줘야 `numpy()`변환이 가능"
   ]
  },
  {
   "cell_type": "code",
   "execution_count": 18,
   "metadata": {},
   "outputs": [
    {
     "data": {
      "text/plain": [
       "(20, 1, 5, 5)"
      ]
     },
     "execution_count": 18,
     "metadata": {},
     "output_type": "execute_result"
    }
   ],
   "source": [
    "weight = weight.detach().numpy()\n",
    "weight.shape"
   ]
  },
  {
   "cell_type": "code",
   "execution_count": 19,
   "metadata": {},
   "outputs": [
    {
     "data": {
      "image/png": "[encoded data removed]",
      "text/plain": [
       "<Figure size 640x480 with 2 Axes>"
      ]
     },
     "metadata": {},
     "output_type": "display_data"
    }
   ],
   "source": [
    "import matplotlib.pyplot as plt\n",
    "plt.imshow(weight[0, 0, :, :], cmap='jet')\n",
    "plt.colorbar()\n",
    "plt.show()"
   ]
  },
  {
   "cell_type": "code",
   "execution_count": 20,
   "metadata": {},
   "outputs": [
    {
     "name": "stdout",
     "output_type": "stream",
     "text": [
      "torch.Size([8, 1, 28, 28])\n",
      "torch.Size([1, 28, 28])\n",
      "torch.Size([1, 28, 28])\n",
      "torch.Size([28, 28])\n"
     ]
    }
   ],
   "source": [
    "# MNIST 데이터셋을 이용 \n",
    "print(images.shape)\n",
    "print(images[0].shape)\n",
    "print(images[0].size())\n",
    "\n",
    "input_image = torch.squeeze(images[0])\n",
    "print(input_image.size())"
   ]
  },
  {
   "cell_type": "code",
   "execution_count": 21,
   "metadata": {},
   "outputs": [
    {
     "name": "stdout",
     "output_type": "stream",
     "text": [
      "torch.Size([1, 1, 28, 28])\n",
      "(1, 20, 24, 24)\n"
     ]
    }
   ],
   "source": [
    "input_data = torch.unsqueeze(images[0], dim=0)\n",
    "print(input_data.size())\n",
    "\n",
    "output_data = layer(input_data)\n",
    "output = output_data.data\n",
    "output_arr = output.numpy()\n",
    "print(output_arr.shape)"
   ]
  },
  {
   "cell_type": "code",
   "execution_count": 22,
   "metadata": {},
   "outputs": [
    {
     "data": {
      "image/png": "[encoded data removed]",
      "text/plain": [
       "<Figure size 1500x3000 with 3 Axes>"
      ]
     },
     "metadata": {},
     "output_type": "display_data"
    }
   ],
   "source": [
    "plt.figure(figsize=(15, 30))\n",
    "\n",
    "plt.subplot(131)\n",
    "plt.title('Input image')\n",
    "plt.imshow(input_image, cmap='gray')\n",
    "\n",
    "plt.subplot(132)\n",
    "plt.title('Weight')\n",
    "plt.imshow(weight[0, 0, :, :], cmap='jet')\n",
    "\n",
    "plt.subplot(133)\n",
    "plt.title('Output')\n",
    "plt.imshow(output_arr[0, 0, :, :], cmap='gray')\n",
    "plt.show()"
   ]
  },
  {
   "cell_type": "markdown",
   "metadata": {},
   "source": [
    "### 풀링 레이어(Pooling layers)\n",
    "\n",
    "- `F.max_pool2d`\n",
    "  - `stride`\n",
    "  - `kernel_size`\n",
    "- `torch.nn.MaxPool2d` 도 많이 사용"
   ]
  },
  {
   "cell_type": "code",
   "execution_count": 23,
   "metadata": {},
   "outputs": [
    {
     "data": {
      "text/plain": [
       "torch.Size([1, 20, 12, 12])"
      ]
     },
     "execution_count": 23,
     "metadata": {},
     "output_type": "execute_result"
    }
   ],
   "source": [
    "import torch.nn.functional as F\n",
    "\n",
    "pool = F.max_pool2d(output, 2, 2)   # 2x2 크기의 최대 풀링\n",
    "pool.shape"
   ]
  },
  {
   "cell_type": "markdown",
   "metadata": {},
   "source": [
    "- MaxPool Layer는 weight가 없기 때문에 바로 `numpy()`변환 가능"
   ]
  },
  {
   "cell_type": "code",
   "execution_count": 24,
   "metadata": {},
   "outputs": [
    {
     "data": {
      "text/plain": [
       "(1, 20, 12, 12)"
      ]
     },
     "execution_count": 24,
     "metadata": {},
     "output_type": "execute_result"
    }
   ],
   "source": [
    "pool_arr = pool.numpy()\n",
    "pool_arr.shape              # 크기가 절반으로 줄어듦"
   ]
  },
  {
   "cell_type": "code",
   "execution_count": 25,
   "metadata": {},
   "outputs": [
    {
     "data": {
      "image/png": "[encoded data removed]",
      "text/plain": [
       "<Figure size 1000x1500 with 2 Axes>"
      ]
     },
     "metadata": {},
     "output_type": "display_data"
    }
   ],
   "source": [
    "plt.figure(figsize=(10, 15))\n",
    "\n",
    "plt.subplot(121)\n",
    "plt.title('Input')\n",
    "plt.imshow(input_image, cmap='gray')\n",
    "\n",
    "plt.subplot(122)\n",
    "plt.title('Output')\n",
    "plt.imshow(pool_arr[0, 0, :, :], cmap='gray')\n",
    "plt.show()"
   ]
  },
  {
   "cell_type": "markdown",
   "metadata": {},
   "source": [
    "### 선형 레이어(Linear layers)\n",
    "\n",
    "1d만 가능하므로 `.view()`를 통해 1d로 펼쳐줘야함"
   ]
  },
  {
   "cell_type": "code",
   "execution_count": 26,
   "metadata": {},
   "outputs": [
    {
     "data": {
      "text/plain": [
       "torch.Size([1, 784])"
      ]
     },
     "execution_count": 26,
     "metadata": {},
     "output_type": "execute_result"
    }
   ],
   "source": [
    "flatten = input_image.view(1, 28*28)\n",
    "flatten.shape"
   ]
  },
  {
   "cell_type": "code",
   "execution_count": 27,
   "metadata": {},
   "outputs": [
    {
     "data": {
      "text/plain": [
       "torch.Size([1, 10])"
      ]
     },
     "execution_count": 27,
     "metadata": {},
     "output_type": "execute_result"
    }
   ],
   "source": [
    "lin = nn.Linear(28*28, 10)(flatten)\n",
    "lin.shape"
   ]
  },
  {
   "cell_type": "code",
   "execution_count": 28,
   "metadata": {},
   "outputs": [
    {
     "data": {
      "text/plain": [
       "tensor([[ 0.1289,  0.2524,  0.4111, -0.0514, -0.3696, -0.0503, -0.2221, -0.2997,\n",
       "          0.2465, -0.1088]], grad_fn=<AddmmBackward0>)"
      ]
     },
     "execution_count": 28,
     "metadata": {},
     "output_type": "execute_result"
    }
   ],
   "source": [
    "lin"
   ]
  },
  {
   "cell_type": "code",
   "execution_count": 29,
   "metadata": {},
   "outputs": [
    {
     "data": {
      "image/png": "[encoded data removed]",
      "text/plain": [
       "<Figure size 640x480 with 2 Axes>"
      ]
     },
     "metadata": {},
     "output_type": "display_data"
    }
   ],
   "source": [
    "plt.imshow(lin.detach().numpy(), cmap='jet')\n",
    "plt.colorbar()\n",
    "plt.show()"
   ]
  },
  {
   "cell_type": "markdown",
   "metadata": {},
   "source": [
    "### 비선형 활성화 (Non-linear Activations)\n",
    "\n",
    "`F.softmax`와 같은 활성화 함수 등"
   ]
  },
  {
   "cell_type": "code",
   "execution_count": 30,
   "metadata": {},
   "outputs": [
    {
     "data": {
      "text/plain": [
       "tensor([[0.1011, 0.0777, 0.0781, 0.0801, 0.1343, 0.0755, 0.1005, 0.1030, 0.1470,\n",
       "         0.1026]])"
      ]
     },
     "execution_count": 30,
     "metadata": {},
     "output_type": "execute_result"
    }
   ],
   "source": [
    "with torch.no_grad():\n",
    "    flatten = input_image.view(1, 28*28)\n",
    "    lin = nn.Linear(28*28, 10)(flatten)\n",
    "    softmax = F.softmax(lin, dim=1)\n",
    "\n",
    "softmax"
   ]
  },
  {
   "cell_type": "code",
   "execution_count": 31,
   "metadata": {},
   "outputs": [
    {
     "data": {
      "text/plain": [
       "1.0"
      ]
     },
     "execution_count": 31,
     "metadata": {},
     "output_type": "execute_result"
    }
   ],
   "source": [
    "import numpy as np\n",
    "np.sum(softmax.numpy())   # 1에 가까운지 확인"
   ]
  },
  {
   "cell_type": "markdown",
   "metadata": {},
   "source": [
    "`F.relu`\n",
    "\n",
    "- ReLU 함수를 적용하는 레이어\n",
    "- `nn.ReLU`로도 사용 가능"
   ]
  },
  {
   "cell_type": "code",
   "execution_count": 32,
   "metadata": {},
   "outputs": [
    {
     "data": {
      "text/plain": [
       "torch.Size([4, 3, 28, 28])"
      ]
     },
     "execution_count": 32,
     "metadata": {},
     "output_type": "execute_result"
    }
   ],
   "source": [
    "inputs = torch.randn(4, 3, 28, 28).to(device='cuda' if torch.cuda.is_available() else 'cpu') # 4개의 이미지를 랜덤하게 생성\n",
    "inputs.shape"
   ]
  },
  {
   "cell_type": "code",
   "execution_count": 33,
   "metadata": {},
   "outputs": [
    {
     "data": {
      "text/plain": [
       "torch.Size([4, 20, 24, 24])"
      ]
     },
     "execution_count": 33,
     "metadata": {},
     "output_type": "execute_result"
    }
   ],
   "source": [
    "layer = nn.Conv2d(3, 20, 5, 1).to(device='cuda' if torch.cuda.is_available() else 'cpu')\n",
    "output = F.relu(layer(inputs))  # ReLU 활성화 함수를 적용\n",
    "output.shape"
   ]
  },
  {
   "cell_type": "markdown",
   "metadata": {},
   "source": [
    "## 모델 정의"
   ]
  },
  {
   "cell_type": "markdown",
   "metadata": {},
   "source": [
    "### `nn.Module` 상속 클래스 정의\n",
    "- `nn.Module`을 상속받는 클래스 정의\n",
    "- `__init__()`: 모델에서 사용될 모듈과 활성화 함수 등을 정의\n",
    "- `forward()`: 모델에서 실행되어야 하는 연산을 정의"
   ]
  },
  {
   "cell_type": "code",
   "execution_count": 34,
   "metadata": {},
   "outputs": [],
   "source": [
    "class Model(nn.Module):                         # nn.Module을 상속받는 파이썬 클래스\n",
    "    def __init__(self, inputs):\n",
    "        super(Model, self).__init__()\n",
    "        self.layer = nn.Linear(inputs, 1)\n",
    "        self.activation = nn.Sigmoid()\n",
    "\n",
    "    def forward(self, x):                       # 순전파 메서드\n",
    "        x = self.layer(x)\n",
    "        x = self.activation(x)\n",
    "        return x"
   ]
  },
  {
   "cell_type": "code",
   "execution_count": 35,
   "metadata": {},
   "outputs": [
    {
     "name": "stdout",
     "output_type": "stream",
     "text": [
      "[Linear(in_features=1, out_features=1, bias=True), Sigmoid()]\n",
      "[Model(\n",
      "  (layer): Linear(in_features=1, out_features=1, bias=True)\n",
      "  (activation): Sigmoid()\n",
      "), Linear(in_features=1, out_features=1, bias=True), Sigmoid()]\n"
     ]
    }
   ],
   "source": [
    "model = Model(1)                               # 모델 객체 생성\n",
    "print(list(model.children()))                  # 모델의 하위 모듈 확인\n",
    "print(list(model.modules()))                   # 모델의 모듈 확인"
   ]
  },
  {
   "cell_type": "markdown",
   "metadata": {},
   "source": [
    "### `nn.Sequential`을 이용한 신경망 정의\n",
    "- `nn.Sequential` 객체로 그 안에 각 모듈을 순차적으로 실행\n",
    "- `__init__()`에서 사용할 네트워크 모델들을 `nn.Sequential`로 정의 가능\n",
    "- `forward()`에서 실행되어야 할 계산을 가독성 높게 작성 가능"
   ]
  },
  {
   "cell_type": "code",
   "execution_count": 36,
   "metadata": {},
   "outputs": [],
   "source": [
    "class Model(nn.Module):\n",
    "    def __init__(self, inputs):\n",
    "        super(Model, self).__init__()\n",
    "        self.layer1 = nn.Sequential(\n",
    "            nn.Conv2d(in_channels=3, out_channels=64, kernel_size=5),\n",
    "            nn.ReLU(inplace=True),\n",
    "            nn.MaxPool2d(kernel_size=2)\n",
    "        )\n",
    "\n",
    "        self.layer2 = nn.Sequential(\n",
    "            nn.Conv2d(in_channels=64, out_channels=30, kernel_size=5),\n",
    "            nn.ReLU(inplace=True),\n",
    "            nn.MaxPool2d(kernel_size=2)\n",
    "        )\n",
    "\n",
    "        self.layer3 = nn.Sequential(\n",
    "            nn.Linear(in_features=30*5*5, out_features=10, bias=True),\n",
    "            nn.ReLU(inplace=True)            \n",
    "        )\n",
    "        \n",
    "\n",
    "        def forward(self, x):\n",
    "            x = self.layer1(x)\n",
    "            x = self.layer2(x)\n",
    "            x = x.view(x.shape[0], -1)\n",
    "            x = self.layer3(x)\n",
    "            return x"
   ]
  },
  {
   "cell_type": "code",
   "execution_count": 37,
   "metadata": {},
   "outputs": [
    {
     "name": "stdout",
     "output_type": "stream",
     "text": [
      "[Sequential(\n",
      "  (0): Conv2d(3, 64, kernel_size=(5, 5), stride=(1, 1))\n",
      "  (1): ReLU(inplace=True)\n",
      "  (2): MaxPool2d(kernel_size=2, stride=2, padding=0, dilation=1, ceil_mode=False)\n",
      "), Sequential(\n",
      "  (0): Conv2d(64, 30, kernel_size=(5, 5), stride=(1, 1))\n",
      "  (1): ReLU(inplace=True)\n",
      "  (2): MaxPool2d(kernel_size=2, stride=2, padding=0, dilation=1, ceil_mode=False)\n",
      "), Sequential(\n",
      "  (0): Linear(in_features=750, out_features=10, bias=True)\n",
      "  (1): ReLU(inplace=True)\n",
      ")]\n",
      "[Model(\n",
      "  (layer1): Sequential(\n",
      "    (0): Conv2d(3, 64, kernel_size=(5, 5), stride=(1, 1))\n",
      "    (1): ReLU(inplace=True)\n",
      "    (2): MaxPool2d(kernel_size=2, stride=2, padding=0, dilation=1, ceil_mode=False)\n",
      "  )\n",
      "  (layer2): Sequential(\n",
      "    (0): Conv2d(64, 30, kernel_size=(5, 5), stride=(1, 1))\n",
      "    (1): ReLU(inplace=True)\n",
      "    (2): MaxPool2d(kernel_size=2, stride=2, padding=0, dilation=1, ceil_mode=False)\n",
      "  )\n",
      "  (layer3): Sequential(\n",
      "    (0): Linear(in_features=750, out_features=10, bias=True)\n",
      "    (1): ReLU(inplace=True)\n",
      "  )\n",
      "), Sequential(\n",
      "  (0): Conv2d(3, 64, kernel_size=(5, 5), stride=(1, 1))\n",
      "  (1): ReLU(inplace=True)\n",
      "  (2): MaxPool2d(kernel_size=2, stride=2, padding=0, dilation=1, ceil_mode=False)\n",
      "), Conv2d(3, 64, kernel_size=(5, 5), stride=(1, 1)), ReLU(inplace=True), MaxPool2d(kernel_size=2, stride=2, padding=0, dilation=1, ceil_mode=False), Sequential(\n",
      "  (0): Conv2d(64, 30, kernel_size=(5, 5), stride=(1, 1))\n",
      "  (1): ReLU(inplace=True)\n",
      "  (2): MaxPool2d(kernel_size=2, stride=2, padding=0, dilation=1, ceil_mode=False)\n",
      "), Conv2d(64, 30, kernel_size=(5, 5), stride=(1, 1)), ReLU(inplace=True), MaxPool2d(kernel_size=2, stride=2, padding=0, dilation=1, ceil_mode=False), Sequential(\n",
      "  (0): Linear(in_features=750, out_features=10, bias=True)\n",
      "  (1): ReLU(inplace=True)\n",
      "), Linear(in_features=750, out_features=10, bias=True), ReLU(inplace=True)]\n"
     ]
    }
   ],
   "source": [
    "model = Model(1)\n",
    "print(list(model.children()))\n",
    "print(list(model.modules()))"
   ]
  },
  {
   "cell_type": "markdown",
   "metadata": {},
   "source": [
    "### 파이토치 사전학습 모델\n",
    "\n",
    "* https://pytorch.org/vision/stable/models.html"
   ]
  },
  {
   "cell_type": "markdown",
   "metadata": {},
   "source": [
    "## 모델 파라미터"
   ]
  },
  {
   "cell_type": "markdown",
   "metadata": {},
   "source": [
    "### 손실 함수(Loss function)\n",
    "\n",
    "* 예측 값과 실제 값 사이의 오차 측정\n",
    "* 학습이 진행되면서 해당 과정이 얼마나 잘 되고 있는지 나타내는 지표\n",
    "* 모델이 훈련되는 동안 최소화될 값으로 주어진 문제에 대한 성공 지표\n",
    "* 손실 함수에 따른 결과를 통해 학습 파라미터를 조정\n",
    "* 최적화 이론에서 최소화 하고자 하는 함수\n",
    "* 미분 가능한 함수 사용\n",
    "* 파이토치의 주요 손실 함수\n",
    "  - `torch.nn.BCELoss`: 이진 분류를 위해 사용\n",
    "  - `torch.nn.CrossEntropyLoss`: 다중 클래스 분류를 위해 사용\n",
    "  - `torch.nn.MSELoss`: 회귀 모델에서 사용"
   ]
  },
  {
   "cell_type": "code",
   "execution_count": 38,
   "metadata": {},
   "outputs": [],
   "source": [
    "criterion = nn.MSELoss()  # 손실 함수 객체 생성\n",
    "criterion = nn.CrossEntropyLoss()  # 손실 함수 객체 생성"
   ]
  },
  {
   "cell_type": "markdown",
   "metadata": {},
   "source": [
    "### 옵티마이저(Optimizer)\n",
    "\n",
    "* 손실 함수를 기반으로 모델이 어떻게 업데이트되어야 하는지 결정 (특정 종류의 확률적 경사 하강법 구현)\n",
    "* optimizer는 `step()`을 통해 전달받은 파라미터를 모델 업데이트\n",
    "* 모든 옵티마이저의 기본으로 `torch.optim.Optimizer(params, defaults)` 클래스 사용\n",
    "* `zero_grad()`를 이용해 옵티마이저에 사용된 파라미터들의 기울기를 0으로 설정\n",
    "* `torch.optim.lr_scheduler`를 이용해 에포크(epochs)에 따라 학습률(learning rate) 조절\n",
    "* 파이토치의 주요 옵티마이저: `optim.Adadelta`, `optim.Adagrad`, `optim.Adam`, `optim.RMSprop`, `optim.SGD`"
   ]
  },
  {
   "cell_type": "markdown",
   "metadata": {},
   "source": [
    "<img src=\"https://img1.daumcdn.net/thumb/R720x0.q80/?scode=mtistory2&fname=http%3A%2F%2Fcfile25.uf.tistory.com%2Fimage%2F222B4F4F562BD0330EA41C\">"
   ]
  },
  {
   "cell_type": "markdown",
   "metadata": {},
   "source": [
    "### 학습률 스케줄러(Learning rate scheduler)\n",
    "\n",
    "* 학습시 특정 조건에 따라 학습률을 조정하여 최적화 진행\n",
    "* 일정 횟수 이상이 되면 학습률을 감소(decay)시키거나 전역 최소점(global minimum) 근처에 가면 학습률을 줄이는 등\n",
    "* 파이토치의 학습률 스케줄러 종류\n",
    "  - `optim.lr_scheduler.LambdaLR`: 람다(lambda) 함수를 이용해 그 결과를 학습률로 설정\n",
    "  - `optim.lr_scheduler.StepLR`: 단계(step)마다 학습률을 감마(gamma) 비율만큼 감소\n",
    "  - `optim.lr_scheduler.MultiStepLR`: `StepLR`과 비슷하지만 특정 단계가 아니라 지정된 에포크에만 감마 비율로 감소\n",
    "  - `optim.lr_scheduler.ExponentialLR`: 에포크마다 이전 학습률에 감마만큼 곱함\n",
    "  - `optim.lr_scheduler.CosineAnnealingLR`: 학습률을 코사인(cosine) 함수의 형태처럼 변화시켜 학습률일 커지기도 하고 작아지기도 함\n",
    "  - `optim.lr_scheduler.ReduceLROnPlateau`: 학습이 잘되는지 아닌지에 따라 동적으로 학습률 변화"
   ]
  },
  {
   "cell_type": "markdown",
   "metadata": {},
   "source": [
    "### 지표(Metrics)\n",
    "\n",
    "* 모델의 학습과 테스트 단계를 모니터링"
   ]
  },
  {
   "cell_type": "code",
   "execution_count": 40,
   "metadata": {},
   "outputs": [
    {
     "name": "stderr",
     "output_type": "stream",
     "text": [
      "ERROR: Could not find a version that satisfies the requirement torchmetircs (from versions: none)\n",
      "ERROR: No matching distribution found for torchmetircs\n"
     ]
    }
   ],
   "source": []
  },
  {
   "cell_type": "code",
   "execution_count": 55,
   "metadata": {},
   "outputs": [
    {
     "name": "stdout",
     "output_type": "stream",
     "text": [
      "tensor([[0.1247, 0.0423, 0.1293, 0.6609, 0.0427],\n",
      "        [0.2787, 0.3047, 0.0405, 0.2596, 0.1165],\n",
      "        [0.3853, 0.1134, 0.2644, 0.1519, 0.0850],\n",
      "        [0.5435, 0.1125, 0.0504, 0.0958, 0.1978],\n",
      "        [0.4764, 0.2850, 0.0504, 0.1392, 0.0490],\n",
      "        [0.2848, 0.2333, 0.3787, 0.0668, 0.0365],\n",
      "        [0.2165, 0.0596, 0.4320, 0.1305, 0.1614],\n",
      "        [0.0330, 0.1894, 0.1804, 0.3122, 0.2849],\n",
      "        [0.2186, 0.1136, 0.0369, 0.2023, 0.4286],\n",
      "        [0.1452, 0.1211, 0.4237, 0.0904, 0.2195]]) tensor([2, 1, 3, 0, 4, 4, 0, 0, 4, 4])\n",
      "tensor(0.3000)\n"
     ]
    }
   ],
   "source": [
    "from torchmetrics import Accuracy\n",
    "\n",
    "preds = torch.randn(10, 5).softmax(dim=-1)  # 예측 확률\n",
    "target = torch.randint(5, (10, ))            # 정답 레이블\n",
    "print(preds, target)\n",
    "\n",
    "# 객체 생성\n",
    "accuracy = Accuracy(task='multiclass', num_classes=5)\n",
    "\n",
    "# 정확도 계산\n",
    "acc = accuracy(preds, target)\n",
    "print(acc)"
   ]
  },
  {
   "cell_type": "code",
   "execution_count": 57,
   "metadata": {},
   "outputs": [
    {
     "name": "stdout",
     "output_type": "stream",
     "text": [
      "tensor(0.3000)\n",
      "tensor(0.2000)\n",
      "tensor(0.1000)\n",
      "tensor(0.2000)\n",
      "tensor(0.1000)\n",
      "tensor(0.4000)\n",
      "tensor(0.1000)\n",
      "tensor(0.1000)\n",
      "tensor(0.3000)\n",
      "tensor(0.2000)\n",
      "tensor(0.2000)\n"
     ]
    }
   ],
   "source": [
    "metric = Accuracy(task='multiclass', num_classes=5)\n",
    "\n",
    "n_batches = 10\n",
    "for i in range(n_batches):\n",
    "    preds = torch.randn(10, 5).softmax(dim=-1)\n",
    "    target = torch.randint(5, (10, ))\n",
    "    acc = metric(preds, target)\n",
    "    print(acc)\n",
    "\n",
    "print(metric.compute())"
   ]
  }
 ],
 "metadata": {
  "kernelspec": {
   "display_name": "Python 3",
   "language": "python",
   "name": "python3"
  },
  "language_info": {
   "codemirror_mode": {
    "name": "ipython",
    "version": 3
   },
   "file_extension": ".py",
   "mimetype": "text/x-python",
   "name": "python",
   "nbconvert_exporter": "python",
   "pygments_lexer": "ipython3",
   "version": "3.11.6"
  }
 },
 "nbformat": 4,
 "nbformat_minor": 2
}
